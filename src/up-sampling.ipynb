{
 "cells": [
  {
   "cell_type": "code",
   "execution_count": 4,
   "metadata": {
    "collapsed": true,
    "ExecuteTime": {
     "start_time": "2023-04-17T03:25:35.641625Z",
     "end_time": "2023-04-17T03:25:35.663718Z"
    }
   },
   "outputs": [],
   "source": [
    "import cv2\n",
    "\n",
    "def contour_detect(img_bin, min_area, max_area=-1, wh_ratio=2.0):\n",
    "    rects = []\n",
    "    contours, _ = cv2.findContours(img_bin.copy(), cv2.RETR_EXTERNAL, cv2.CHAIN_APPROX_NONE)\n",
    "    if len(contours) == 0:\n",
    "        return rects\n",
    "\n",
    "    max_area = img_bin.shape[0] * img_bin.shape[1] if max_area < 0 else max_area\n",
    "    for contour in contours:\n",
    "        area = cv2.contourArea(contour)\n",
    "        if area >= min_area and area <= max_area:\n",
    "            x, y, w, h = cv2.boundingRect(contour)\n",
    "            if 1.0 * w / h < wh_ratio and 1.0 * h / w < wh_ratio:\n",
    "                rects.append([x, y, w, h])\n",
    "    return rects\n"
   ]
  },
  {
   "cell_type": "code",
   "execution_count": 5,
   "outputs": [],
   "source": [
    "import cv2\n",
    "\n",
    "def detect_objects_and_crop(input_image_path, output_directory, save_index):\n",
    "    # Tải ảnh đầu vào\n",
    "    img = cv2.imread(input_image_path)\n",
    "\n",
    "    # Phát hiện các cạnh trong ảnh và lấy các hình chữ nhật bao quanh các cạnh\n",
    "    rects = contour_detect(cv2.Canny(img, 100, 200), min_area=100, max_area=200)\n",
    "\n",
    "    # Lặp qua các hình chữ nhật và cắt và lưu vào thư mục\n",
    "    for i, (x, y, w, h) in enumerate(rects):\n",
    "        # Cắt đối tượng\n",
    "        object_crop = img[y:y+h, x:x+w]\n",
    "\n",
    "        # Lưu đối tượng vào thư mục\n",
    "        output_path = os.path.join(output_directory, f\"object_{save_index}_{i}.jpg\")\n",
    "        cv2.imwrite(output_path, object_crop)\n"
   ],
   "metadata": {
    "collapsed": false,
    "ExecuteTime": {
     "start_time": "2023-04-17T03:25:36.204167Z",
     "end_time": "2023-04-17T03:25:36.225104Z"
    }
   }
  },
  {
   "cell_type": "code",
   "execution_count": 7,
   "outputs": [
    {
     "name": "stdout",
     "output_type": "stream",
     "text": [
      "Xong.\n"
     ]
    }
   ],
   "source": [
    "import os\n",
    "\n",
    "img_dir = \"../data/images_traffic\"\n",
    "save_dir = \"../data/images_unsampling\"\n",
    "os.makedirs(save_dir, exist_ok=True)\n",
    "\n",
    "count = 0\n",
    "for img in os.listdir(img_dir):\n",
    "    img_path = os.path.join(img_dir, img)\n",
    "    count += 1\n",
    "    detect_objects_and_crop(img_path, save_dir, count)\n",
    "    if count > 50:\n",
    "        break\n",
    "\n",
    "print(\"Xong.\")"
   ],
   "metadata": {
    "collapsed": false,
    "ExecuteTime": {
     "start_time": "2023-04-17T03:27:49.402983Z",
     "end_time": "2023-04-17T03:27:51.732481Z"
    }
   }
  },
  {
   "cell_type": "code",
   "execution_count": null,
   "outputs": [],
   "source": [],
   "metadata": {
    "collapsed": false
   }
  }
 ],
 "metadata": {
  "kernelspec": {
   "display_name": "Python 3",
   "language": "python",
   "name": "python3"
  },
  "language_info": {
   "codemirror_mode": {
    "name": "ipython",
    "version": 2
   },
   "file_extension": ".py",
   "mimetype": "text/x-python",
   "name": "python",
   "nbconvert_exporter": "python",
   "pygments_lexer": "ipython2",
   "version": "2.7.6"
  }
 },
 "nbformat": 4,
 "nbformat_minor": 0
}
